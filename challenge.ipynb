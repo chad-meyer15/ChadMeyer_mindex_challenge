{
 "cells": [
  {
   "cell_type": "code",
   "execution_count": 3,
   "metadata": {},
   "outputs": [],
   "source": [
    "import boto3\n",
    "import pandas\n",
    "from sqlalchemy import create_engine\n",
    "import psycopg2"
   ]
  },
  {
   "cell_type": "code",
   "execution_count": 4,
   "metadata": {},
   "outputs": [],
   "source": [
    "# importing credentials from credentials file\n",
    "from credentials import (\n",
    "    AccessKey,\n",
    "    SecretKey,\n",
    "    BucketName,\n",
    "    DatabaseHost,\n",
    "    UserName,\n",
    "    Password,\n",
    "    TableName,\n",
    "    DatabaseName\n",
    ")"
   ]
  },
  {
   "cell_type": "code",
   "execution_count": 5,
   "metadata": {},
   "outputs": [],
   "source": [
    "s3r = boto3.resource('s3', aws_access_key_id=AccessKey, aws_secret_access_key=SecretKey)\n",
    "bucket = s3r.Bucket(BucketName)\n",
    "file_list = ['bengals.csv', 'boyd_receiving.csv', 'chase_receiving.csv', 'higgins_receiving.csv']\n",
    "# make list of file names to remove redundant code to download files from S3 bucket\n",
    "for file in file_list:\n",
    "    bucket.download_file(file, file)\n"
   ]
  },
  {
   "cell_type": "code",
   "execution_count": 6,
   "metadata": {},
   "outputs": [],
   "source": [
    "bengals_data = pandas.read_csv('./bengals.csv')\n",
    "boyd_data = pandas.read_csv('./boyd_receiving.csv')\n",
    "chase_data = pandas.read_csv('./chase_receiving.csv')\n",
    "higgins_data = pandas.read_csv('./higgins_receiving.csv')"
   ]
  },
  {
   "cell_type": "code",
   "execution_count": 7,
   "metadata": {},
   "outputs": [],
   "source": [
    "# Renaming Indivudal Player's Stats Columns for Joining/Readability Purposes\n",
    "boyd_data = boyd_data.rename(columns={\"Yards\": \"Boyd Yards\", \"TD\": \"Boyd TD\"})\n",
    "chase_data = chase_data.rename(columns={\"Yards\": \"Chase Yards\", \"TD\": \"Chase TD\"})\n",
    "higgins_data = higgins_data.rename(columns={\"Yards\": \"Higgins Yards\", \"TD\": \"Higgins TD\"})"
   ]
  },
  {
   "cell_type": "code",
   "execution_count": 8,
   "metadata": {},
   "outputs": [],
   "source": [
    "total_data = bengals_data.merge(boyd_data, how='left').merge(chase_data, how='left').merge(higgins_data, how='left')\n",
    "# perform left joins starting with Bengals since Bengals will contain all Weeks including Bye weeks, regardless of\n",
    "# individual player injuries"
   ]
  },
  {
   "cell_type": "code",
   "execution_count": 9,
   "metadata": {},
   "outputs": [],
   "source": [
    "# Since individual players preseason stats are not given, i.e. Null after merge, we first want to take care of\n",
    "# filtering out the bye week since the Location, Opponent, and Result fields are Null for this column.\n",
    "# Then we can take care of replacing all Null values in the table with zeroes because all that will be left are players\n",
    "# individual stats for Preseason Games, or games they did not play. Meaning, it is safe to assume we can assign these\n",
    "# Null values to zero. We must first handle the bye weeks before doing this since having '0' for Location and Opponent\n",
    "# Does not make sense. More importantly, assigning the 'Result' for the Bye week to '0' will indicate a Loss in the upcoming\n",
    "# steps - which is inaccurate. \n",
    "\n",
    "# first we want to filter out the Bye week - for the Bye week - Location, Opponent, and Result are Null\n",
    "total_data = total_data.dropna(subset=['Location', 'Opponent', 'Result'])\n",
    "\n",
    "# Now the only Nulls that should exist are stats for games in which the individual players did not participate\n",
    "# We can safely assign these values to zero\n",
    "total_data = total_data.fillna(0)\n"
   ]
  },
  {
   "cell_type": "code",
   "execution_count": 10,
   "metadata": {},
   "outputs": [],
   "source": [
    "total_data['Result'] = total_data['Result'].map({1.0: \"Win\", 0.0: \"Loss\"})"
   ]
  },
  {
   "cell_type": "code",
   "execution_count": 11,
   "metadata": {},
   "outputs": [
    {
     "data": {
      "text/plain": [
       "24"
      ]
     },
     "execution_count": 11,
     "metadata": {},
     "output_type": "execute_result"
    }
   ],
   "source": [
    "connection_str = f\"postgresql://{UserName}:{Password}@{DatabaseHost}/{DatabaseName}\"\n",
    "engine = create_engine(connection_str)\n",
    "total_data.to_sql(TableName, engine, if_exists='replace')"
   ]
  }
 ],
 "metadata": {
  "kernelspec": {
   "display_name": "chadmeyer-e2yIk1iT",
   "language": "python",
   "name": "python3"
  },
  "language_info": {
   "codemirror_mode": {
    "name": "ipython",
    "version": 3
   },
   "file_extension": ".py",
   "mimetype": "text/x-python",
   "name": "python",
   "nbconvert_exporter": "python",
   "pygments_lexer": "ipython3",
   "version": "3.10.2"
  }
 },
 "nbformat": 4,
 "nbformat_minor": 4
}
